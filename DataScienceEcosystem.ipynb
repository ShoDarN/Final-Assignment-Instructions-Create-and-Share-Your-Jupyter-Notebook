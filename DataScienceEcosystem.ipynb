{
 "cells": [
  {
   "cell_type": "markdown",
   "id": "d752c8da-904d-45a6-9c57-2c2194e1bf1e",
   "metadata": {},
   "source": [
    "# Data Science Tools and Ecosystem"
   ]
  },
  {
   "cell_type": "markdown",
   "id": "0ecd19b0-e8e5-4e08-abe2-88989e3bb28f",
   "metadata": {},
   "source": [
    "### In this notebook, Data Science Tools and Ecosystem are summarized."
   ]
  },
  {
   "cell_type": "markdown",
   "id": "a4a7b64a-f0dd-4570-997f-5831fefde2c4",
   "metadata": {},
   "source": [
    "## Objectives: \n",
    "\n",
    "#### - Create a Jupyter Notebook\n",
    "\n",
    "#### - Create markdown cells with titles, introductions, and lists of data science languages, libraries, and tools\n",
    "\n",
    "#### -Create code cells to perform simple arithmetic operations and unit conversions\n",
    "\n",
    "#### -Understand the basic structure and components of a Jupyter Notebook"
   ]
  },
  {
   "cell_type": "markdown",
   "id": "977c8c25-f66c-421d-9048-fac7b80b942e",
   "metadata": {},
   "source": [
    "### Some of the popular languages that Data Scientists use are: \n",
    "#### 1. Python     \n",
    "\n",
    "#### 2. R \n",
    "\n",
    "#### 3. Matplotlib    \n",
    "\n",
    "#### 4. Scikit-learn"
   ]
  },
  {
   "cell_type": "markdown",
   "id": "fc2a838c-d303-4b4e-81ea-4fc2df43043e",
   "metadata": {},
   "source": [
    "### Some of the commonly used libraries used by Data Scientists include:\n",
    "\n",
    "#### Numpy\n",
    "\n",
    "#### Pandas\n",
    "\n",
    "#### Matplotlib\n",
    "\n",
    "#### Scicit-learn\n",
    "\n",
    "#### TensorFlow"
   ]
  },
  {
   "cell_type": "markdown",
   "id": "4b9a132a-1a79-436d-8da5-6046c47ae86a",
   "metadata": {},
   "source": [
    "|Data Science Tools|\n",
    "|-------|\n",
    "|Python|\n",
    "|R|\n",
    "|Jupyter Notebook|\n",
    "|SQL|\n",
    "|Git and GitHub|"
   ]
  },
  {
   "cell_type": "markdown",
   "id": "e6b188ab-50b2-4df8-817e-134bff90c152",
   "metadata": {},
   "source": [
    "### Below are a few examples of evaluating arithmetic expressions in Python"
   ]
  },
  {
   "cell_type": "code",
   "execution_count": 3,
   "id": "c3ad565e-2989-4b64-a14d-961bbf9eb9b6",
   "metadata": {},
   "outputs": [
    {
     "data": {
      "text/plain": [
       "17"
      ]
     },
     "execution_count": 3,
     "metadata": {},
     "output_type": "execute_result"
    }
   ],
   "source": [
    "#This a simple arithmetic expression to mutiply then add integers\n",
    "\n",
    "(3*4)+5"
   ]
  },
  {
   "cell_type": "code",
   "execution_count": 1,
   "id": "e440c3e2-f0ac-4bab-b73e-4ecce0e3aa79",
   "metadata": {},
   "outputs": [
    {
     "data": {
      "text/plain": [
       "3.3333333333333335"
      ]
     },
     "execution_count": 1,
     "metadata": {},
     "output_type": "execute_result"
    }
   ],
   "source": [
    "#This will convert 200 minutes to hours by diving by 60\n",
    "200/60"
   ]
  },
  {
   "cell_type": "markdown",
   "id": "501f5ba2-dc93-4d0d-88e6-b712fde30ee1",
   "metadata": {},
   "source": [
    "## Author\n",
    "\n",
    "##### Shown D.N"
   ]
  },
  {
   "cell_type": "code",
   "execution_count": null,
   "id": "0a8c7630-bc29-4d18-a79d-49c972091973",
   "metadata": {},
   "outputs": [],
   "source": []
  }
 ],
 "metadata": {
  "kernelspec": {
   "display_name": "Python 3 (ipykernel)",
   "language": "python",
   "name": "python3"
  },
  "language_info": {
   "codemirror_mode": {
    "name": "ipython",
    "version": 3
   },
   "file_extension": ".py",
   "mimetype": "text/x-python",
   "name": "python",
   "nbconvert_exporter": "python",
   "pygments_lexer": "ipython3",
   "version": "3.12.3"
  }
 },
 "nbformat": 4,
 "nbformat_minor": 5
}
